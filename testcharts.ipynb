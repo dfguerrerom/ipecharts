{
 "cells": [
  {
   "cell_type": "code",
   "execution_count": null,
   "id": "eb5e500c-37ae-4c65-98ee-a60957a15f88",
   "metadata": {},
   "outputs": [],
   "source": [
    "from ipecharts import EChartsWidget\n",
    "from ipecharts.option import Option, XAxis, YAxis\n",
    "from ipecharts.option.series import Line\n",
    "import random\n",
    "line = Line(data=[820, 932, 901, 934, 1290, 1330, 1320], type='line')\n",
    "option = Option(\n",
    "    xAxis=XAxis(\n",
    "        type=\"category\",\n",
    "        data=[\"Mon\", \"Tue\", \"Wed\", \"Thu\", \"Fri\", \"Sat\", \"Sun\"],\n",
    "    ),\n",
    "    yAxis=YAxis(type=\"value\"),\n",
    "    series=[line],\n",
    ")\n",
    "chart = EChartsWidget(option=option, renderer='svg', use_dirty_rect=True)"
   ]
  },
  {
   "cell_type": "code",
   "execution_count": null,
   "id": "77ed8355-135c-45b8-9f0d-d0fc3fef5a6d",
   "metadata": {},
   "outputs": [],
   "source": [
    "chart"
   ]
  },
  {
   "cell_type": "code",
   "execution_count": null,
   "id": "f2670f82-a4ec-4718-ad2e-30dff6579f2e",
   "metadata": {},
   "outputs": [],
   "source": [
    "chart.theme"
   ]
  },
  {
   "cell_type": "code",
   "execution_count": null,
   "id": "b4dca6c7-59a0-4b3b-874b-dda6a6d8078e",
   "metadata": {},
   "outputs": [],
   "source": [
    "chart.theme=\"light\""
   ]
  },
  {
   "cell_type": "code",
   "execution_count": null,
   "id": "0bfd6086-6977-458f-8566-2e588a0cc31d",
   "metadata": {},
   "outputs": [],
   "source": [
    "themes = [\"dark\", \"light\"]\n",
    "renderers = [\"svg\", \"canvas\"]\n",
    "styles = [\n",
    "    {\n",
    "        \"height\" : \"200px\",\n",
    "        \"width\" : \"700px\"\n",
    "    },\n",
    "    {\n",
    "        \"height\" : \"400px\",\n",
    "        \"width\" : \"600px\"\n",
    "    },\n",
    "]"
   ]
  },
  {
   "cell_type": "code",
   "execution_count": null,
   "id": "bc48b462-c65f-4720-b0c4-109b6473872c",
   "metadata": {},
   "outputs": [],
   "source": [
    "chart.option"
   ]
  },
  {
   "cell_type": "code",
   "execution_count": null,
   "id": "38e9c39e-3374-4e83-a2e3-02d499db8864",
   "metadata": {},
   "outputs": [],
   "source": [
    "chart.theme = themes[not chart.theme==themes[1]]"
   ]
  },
  {
   "cell_type": "code",
   "execution_count": null,
   "id": "dd818a1c-7a6b-4c86-bd19-0cc8e247c3dc",
   "metadata": {},
   "outputs": [],
   "source": [
    "line.data = data=[random.randint(-10,50) for _ in range(10)]"
   ]
  },
  {
   "cell_type": "code",
   "execution_count": null,
   "id": "1017fa79-a7c2-41d3-ab4b-1bb66ad0a086",
   "metadata": {},
   "outputs": [],
   "source": [
    "chart.renderer=themes[not chart.renderer==renderers[1]]"
   ]
  },
  {
   "cell_type": "code",
   "execution_count": null,
   "id": "e9d47352-cb49-4196-be95-374ed2d2830c",
   "metadata": {},
   "outputs": [],
   "source": [
    "chart.style = styles[not chart.style==styles[1]]"
   ]
  },
  {
   "cell_type": "markdown",
   "id": "46d96e37-8f38-407b-baa3-ab9fcf08cf23",
   "metadata": {},
   "source": [
    "# Test Raw Widget"
   ]
  },
  {
   "cell_type": "code",
   "execution_count": null,
   "id": "90d07017-9590-49f4-9e19-e98020fe7482",
   "metadata": {},
   "outputs": [],
   "source": [
    "from ipecharts import EChartsRawWidget\n",
    "\n",
    "option = {\n",
    "  'xAxis': {\n",
    "    'type': 'category',\n",
    "    'boundaryGap': False,\n",
    "    'data': ['Mon', 'Tue', 'Wed', 'Thu', 'Fri', 'Sat', 'Sun']\n",
    "  },\n",
    "  'yAxis': {\n",
    "    'type': 'value'\n",
    "  },\n",
    "  'series': [\n",
    "    {\n",
    "      'data': [820, 932, 901, 934, 1290, 1330, 1320],\n",
    "      'type': 'line',\n",
    "      'areaStyle': {}\n",
    "    }\n",
    "  ]\n",
    "}\n",
    "\n",
    "raw_widget = EChartsRawWidget(option=option, theme=\"dark\", renderer=\"svg\")\n",
    "raw_widget"
   ]
  },
  {
   "cell_type": "code",
   "execution_count": null,
   "id": "db87b8a0-f1f4-47e0-851b-354cafb228a1",
   "metadata": {},
   "outputs": [],
   "source": [
    "raw_widget.theme = themes[not chart.theme==themes[1]]"
   ]
  },
  {
   "cell_type": "code",
   "execution_count": null,
   "id": "1b8a040c-ac6e-4b81-9bbf-99062efbd63f",
   "metadata": {},
   "outputs": [],
   "source": [
    "raw_widget.option = {'xAxis': {'type': 'category',\n",
    "  'boundaryGap': False,\n",
    "  'data': ['Mon', 'Tue', 'Wed', 'Thu', 'Fri']},\n",
    " 'yAxis': {'type': 'value'},\n",
    " 'series': [{'data': [820, 932, 1290, 1330, 1320],\n",
    "   'type': 'line',\n",
    "   'areaStyle': {}}]}\n"
   ]
  }
 ],
 "metadata": {
  "kernelspec": {
   "display_name": "Python 3 (ipykernel)",
   "language": "python",
   "name": "python3"
  },
  "language_info": {
   "codemirror_mode": {
    "name": "ipython",
    "version": 3
   },
   "file_extension": ".py",
   "mimetype": "text/x-python",
   "name": "python",
   "nbconvert_exporter": "python",
   "pygments_lexer": "ipython3",
   "version": "3.10.15"
  }
 },
 "nbformat": 4,
 "nbformat_minor": 5
}
