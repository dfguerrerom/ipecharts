{
 "cells": [
  {
   "cell_type": "code",
   "execution_count": 316,
   "id": "7f9f28be-7ba6-4d6f-8c0f-ac736d2fe574",
   "metadata": {},
   "outputs": [],
   "source": [
    "from ipecharts import EChartsRawWidget\n",
    "\n",
    "option = {\n",
    "  'xAxis': {\n",
    "    'type': 'category',\n",
    "    'boundaryGap': False,\n",
    "    'data': ['Mon', 'Tue', 'Wed', 'Thu', 'Fri', 'Sat', 'Sun']\n",
    "  },\n",
    "  'yAxis': {\n",
    "    'type': 'value'\n",
    "  },\n",
    "  'series': [\n",
    "    {\n",
    "      'data': [820, 932, 901, 934, 1290, 1330, 1320],\n",
    "      'type': 'line',\n",
    "      'areaStyle': {}\n",
    "    }\n",
    "  ]\n",
    "}\n",
    "\n",
    "raw_chart = EChartsRawWidget(option=option, height=\"auto\", width=\"auto\")"
   ]
  },
  {
   "cell_type": "code",
   "execution_count": 317,
   "id": "d332b694-29b7-4d9c-b37e-c987b1fbcd34",
   "metadata": {},
   "outputs": [
    {
     "data": {
      "application/vnd.jupyter.widget-view+json": {
       "model_id": "c2a83e8fca8a4c57a86eba5b925c4bdd",
       "version_major": 2,
       "version_minor": 0
      },
      "text/plain": [
       "EChartsRawWidget(option={'xAxis': {'type': 'category', 'boundaryGap': False, 'data': ['Mon', 'Tue', 'Wed', 'Th…"
      ]
     },
     "execution_count": 317,
     "metadata": {},
     "output_type": "execute_result"
    }
   ],
   "source": [
    "raw_chart"
   ]
  },
  {
   "cell_type": "code",
   "execution_count": 286,
   "id": "31ca8c28-5d6a-4c91-b96d-388b25928f66",
   "metadata": {},
   "outputs": [],
   "source": [
    "raw_chart.theme = \"dark\""
   ]
  },
  {
   "cell_type": "code",
   "execution_count": 318,
   "id": "eb5e500c-37ae-4c65-98ee-a60957a15f88",
   "metadata": {},
   "outputs": [],
   "source": [
    "from ipecharts import EChartsWidget\n",
    "from ipecharts.option import Option, XAxis, YAxis\n",
    "from ipecharts.option.series import Line\n",
    "\n",
    "line = Line(data=[820, 932, 901, 934, 1290, 1330, 1320], type='line')\n",
    "option = Option(\n",
    "    xAxis=XAxis(\n",
    "        type=\"category\",\n",
    "        data=[\"Mon\", \"Tue\", \"Wed\", \"Thu\", \"Fri\", \"Sat\", \"Sun\"],\n",
    "    ),\n",
    "    yAxis=YAxis(type=\"value\"),\n",
    "    series=[line],\n",
    ")\n",
    "chart = EChartsWidget(option=option, theme=\"dark\", renderer='svg', use_dirty_rect=True)"
   ]
  },
  {
   "cell_type": "code",
   "execution_count": 319,
   "id": "77ed8355-135c-45b8-9f0d-d0fc3fef5a6d",
   "metadata": {},
   "outputs": [
    {
     "data": {
      "application/vnd.jupyter.widget-view+json": {
       "model_id": "e0e8a2f6d068446189682e99d0a0144d",
       "version_major": 2,
       "version_minor": 0
      },
      "text/plain": [
       "EChartsWidget(option=Option(angleAxis=None, aria=None, axisPointer=None, brush=None, calendar=None, dataset=No…"
      ]
     },
     "execution_count": 319,
     "metadata": {},
     "output_type": "execute_result"
    }
   ],
   "source": [
    "chart"
   ]
  },
  {
   "cell_type": "code",
   "execution_count": 320,
   "id": "0bfd6086-6977-458f-8566-2e588a0cc31d",
   "metadata": {},
   "outputs": [],
   "source": [
    "themes = [\"dark\", \"light\"]"
   ]
  },
  {
   "cell_type": "code",
   "execution_count": 339,
   "id": "3a6bbc5c-7719-4f1c-83c6-b7bbd790cfd1",
   "metadata": {},
   "outputs": [],
   "source": [
    "chart.theme = themes[not chart.theme=='light']"
   ]
  },
  {
   "cell_type": "code",
   "execution_count": 342,
   "id": "38e9c39e-3374-4e83-a2e3-02d499db8864",
   "metadata": {},
   "outputs": [],
   "source": [
    "line.data = data=get_random_data(5)"
   ]
  },
  {
   "cell_type": "code",
   "execution_count": 315,
   "id": "5f2d3430-b6a0-4b37-b000-228ea422b995",
   "metadata": {},
   "outputs": [],
   "source": [
    "option.series  = [Line(data=get_random_data(5))]"
   ]
  },
  {
   "cell_type": "code",
   "execution_count": 45,
   "id": "5791ed71-05f6-4fc0-9d03-32e816e203fc",
   "metadata": {},
   "outputs": [],
   "source": [
    "from traitlets import observe"
   ]
  },
  {
   "cell_type": "code",
   "execution_count": 46,
   "id": "d4287e98-73a9-4d39-a830-78c4ac617ca6",
   "metadata": {},
   "outputs": [],
   "source": [
    "line.observe(lambda *x : print(x), \"data\")"
   ]
  },
  {
   "cell_type": "code",
   "execution_count": 51,
   "id": "77ec4162-ba82-4d38-8524-ec040819df0f",
   "metadata": {},
   "outputs": [],
   "source": [
    "import random"
   ]
  },
  {
   "cell_type": "code",
   "execution_count": 64,
   "id": "263c64ae-d2e8-4eeb-aa97-5e456a8ac996",
   "metadata": {},
   "outputs": [],
   "source": [
    "def get_random_data(n):\n",
    "    return [random.randint(-10,50) for _ in range(n)]"
   ]
  },
  {
   "cell_type": "code",
   "execution_count": 283,
   "id": "ca0cb178-6ee9-43bf-bf11-3a75480f04e7",
   "metadata": {},
   "outputs": [],
   "source": [
    "line.data = get_random_data(5)"
   ]
  },
  {
   "cell_type": "code",
   "execution_count": 127,
   "id": "eb68c3c7-f22b-4b16-b2eb-dca9ff4edec6",
   "metadata": {},
   "outputs": [],
   "source": [
    "chart.theme='light'"
   ]
  },
  {
   "cell_type": "code",
   "execution_count": 308,
   "id": "1017fa79-a7c2-41d3-ab4b-1bb66ad0a086",
   "metadata": {},
   "outputs": [],
   "source": [
    "chart.renderer=\"svg\""
   ]
  },
  {
   "cell_type": "code",
   "execution_count": 309,
   "id": "02ecf47b-ab05-4067-a759-e752085c9f68",
   "metadata": {},
   "outputs": [],
   "source": [
    "chart.renderer=\"canvas\""
   ]
  },
  {
   "cell_type": "code",
   "execution_count": 97,
   "id": "1839d05e-41b0-4b8d-8d79-ac987093b0b5",
   "metadata": {},
   "outputs": [],
   "source": [
    "chart.theme=\"light\""
   ]
  },
  {
   "cell_type": "code",
   "execution_count": 98,
   "id": "658be375-20dd-4608-aade-7b240a4446c2",
   "metadata": {},
   "outputs": [],
   "source": [
    "chart.theme=\"dark\""
   ]
  },
  {
   "cell_type": "code",
   "execution_count": 12,
   "id": "e9d47352-cb49-4196-be95-374ed2d2830c",
   "metadata": {},
   "outputs": [],
   "source": [
    "chart.style = {\n",
    "    \"backgroundColor\" : \"inherit\",\n",
    "    \"height\" : \"400px\"\n",
    "}"
   ]
  },
  {
   "cell_type": "code",
   "execution_count": null,
   "id": "ad95963f-cb4f-4ece-b42d-74a1776ac42d",
   "metadata": {},
   "outputs": [],
   "source": []
  }
 ],
 "metadata": {
  "kernelspec": {
   "display_name": "Python 3 (ipykernel)",
   "language": "python",
   "name": "python3"
  },
  "language_info": {
   "codemirror_mode": {
    "name": "ipython",
    "version": 3
   },
   "file_extension": ".py",
   "mimetype": "text/x-python",
   "name": "python",
   "nbconvert_exporter": "python",
   "pygments_lexer": "ipython3",
   "version": "3.10.15"
  }
 },
 "nbformat": 4,
 "nbformat_minor": 5
}
