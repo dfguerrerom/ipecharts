{
 "cells": [
  {
   "cell_type": "code",
   "execution_count": 15,
   "id": "78fecd78-8958-4779-b692-9a2c855f3ab6",
   "metadata": {
    "scrolled": true
   },
   "outputs": [],
   "source": [
    "from ipecharts.echarts import EChartsWidget\n",
    "from ipecharts.option.series import Line, Bar, Pie\n",
    "from ipecharts.option import Option \n",
    "from ipecharts.option.xaxis import XAxis\n",
    "from ipecharts.option.yaxis import YAxis\n",
    "from ipecharts.option.title import Title\n",
    "from ipecharts.option.legend import Legend"
   ]
  },
  {
   "cell_type": "code",
   "execution_count": 2,
   "id": "0c2a70c4-c8a7-4943-9411-a422c96aed2d",
   "metadata": {},
   "outputs": [],
   "source": [
    "line = Bar(data=[120, 200, 150, 80, 70, 110, 130], id='foo')\n",
    "line.name = 'fpop'"
   ]
  },
  {
   "cell_type": "code",
   "execution_count": 3,
   "id": "75db321a-a8dc-412c-8759-8777d8718b6b",
   "metadata": {},
   "outputs": [],
   "source": [
    "line2 = Line( data= [150, 230, 224, 218, 135, 147, 260], id='bar')"
   ]
  },
  {
   "cell_type": "code",
   "execution_count": 12,
   "id": "57e243b5-42f6-4466-bd19-bb740a5f82c4",
   "metadata": {},
   "outputs": [],
   "source": [
    "pie = Pie(data = [\n",
    "        { 'value': 1048, 'name': 'Search Engine' },\n",
    "        { 'value': 735, 'name': 'Direct' },\n",
    "        { 'value': 580, 'name': 'Email' },\n",
    "        { 'value': 484, 'name': 'Union Ads' },\n",
    "        { 'value': 300, 'name': 'Video Ads' }\n",
    "      ],       name= 'Access From',\n",
    "  )"
   ]
  },
  {
   "cell_type": "code",
   "execution_count": 16,
   "id": "b895b90a-ffbe-4b2d-9ef2-45773a2ab714",
   "metadata": {},
   "outputs": [],
   "source": [
    "title = Title(    text= 'Referer of a Website',\n",
    "    subtext= 'Fake Data',\n",
    "    left= 'center')"
   ]
  },
  {
   "cell_type": "code",
   "execution_count": null,
   "id": "25045508-a1ca-4dd7-ad1f-6d897918d280",
   "metadata": {},
   "outputs": [],
   "source": [
    "legend = Legend(orient='vertical', left='left')"
   ]
  },
  {
   "cell_type": "code",
   "execution_count": 17,
   "id": "629ecfac-c6ac-4621-ae3c-f3863e61596b",
   "metadata": {},
   "outputs": [],
   "source": [
    "option=Option(series=[pie],  title=title )"
   ]
  },
  {
   "cell_type": "code",
   "execution_count": 18,
   "id": "7b4c0106-a763-4c4d-8723-93409d7c340f",
   "metadata": {},
   "outputs": [],
   "source": [
    "w = EChartsWidget(option=option)"
   ]
  },
  {
   "cell_type": "code",
   "execution_count": 19,
   "id": "071f92a6-11dc-4c49-97a5-a7d1f04ab090",
   "metadata": {},
   "outputs": [
    {
     "data": {
      "application/vnd.jupyter.widget-view+json": {
       "model_id": "dbd6ca82a5a14ba3997dae9130333471",
       "version_major": 2,
       "version_minor": 0
      },
      "text/plain": [
       "EChartsWidget(option=Option(angleAxis=None, aria=None, axisPointer=None, brush=None, calendar=None, dataset=No…"
      ]
     },
     "execution_count": 19,
     "metadata": {},
     "output_type": "execute_result"
    }
   ],
   "source": [
    "w"
   ]
  },
  {
   "cell_type": "code",
   "execution_count": null,
   "id": "f810fabc-02d8-4cc8-a45d-eea51a27e5b6",
   "metadata": {},
   "outputs": [],
   "source": []
  }
 ],
 "metadata": {
  "kernelspec": {
   "display_name": "Python 3 (ipykernel)",
   "language": "python",
   "name": "python3"
  },
  "language_info": {
   "codemirror_mode": {
    "name": "ipython",
    "version": 3
   },
   "file_extension": ".py",
   "mimetype": "text/x-python",
   "name": "python",
   "nbconvert_exporter": "python",
   "pygments_lexer": "ipython3",
   "version": "3.10.13"
  }
 },
 "nbformat": 4,
 "nbformat_minor": 5
}
