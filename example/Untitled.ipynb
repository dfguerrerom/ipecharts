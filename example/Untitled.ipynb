{
 "cells": [
  {
   "cell_type": "code",
   "execution_count": 1,
   "id": "78fecd78-8958-4779-b692-9a2c855f3ab6",
   "metadata": {
    "scrolled": true
   },
   "outputs": [],
   "source": [
    "from ipecharts.echarts import EChartsWidget"
   ]
  },
  {
   "cell_type": "code",
   "execution_count": 2,
   "id": "0c2a70c4-c8a7-4943-9411-a422c96aed2d",
   "metadata": {},
   "outputs": [],
   "source": [
    "from ipecharts.option.media import Media"
   ]
  },
  {
   "cell_type": "code",
   "execution_count": 8,
   "id": "7c21643f-6db0-4d89-bf95-f6c676f6de54",
   "metadata": {},
   "outputs": [],
   "source": [
    "a = Media()"
   ]
  },
  {
   "cell_type": "code",
   "execution_count": 7,
   "id": "00a6bac6-f936-4024-b016-5cec8a3c0b89",
   "metadata": {},
   "outputs": [
    {
     "data": {
      "text/plain": [
       "Media()"
      ]
     },
     "execution_count": 7,
     "metadata": {},
     "output_type": "execute_result"
    }
   ],
   "source": [
    "a"
   ]
  },
  {
   "cell_type": "code",
   "execution_count": 6,
   "id": "1a85d9a7-8798-4b2b-a5ca-b246409382eb",
   "metadata": {},
   "outputs": [
    {
     "data": {
      "text/plain": [
       "'ee2182cf84b24fa88fe8d36a4d76805c'"
      ]
     },
     "execution_count": 6,
     "metadata": {},
     "output_type": "execute_result"
    }
   ],
   "source": [
    "a._model_id"
   ]
  },
  {
   "cell_type": "code",
   "execution_count": null,
   "id": "6021323d-5f17-42bd-bb96-cd17ef9d5b87",
   "metadata": {},
   "outputs": [],
   "source": []
  }
 ],
 "metadata": {
  "kernelspec": {
   "display_name": "Python 3 (ipykernel)",
   "language": "python",
   "name": "python3"
  },
  "language_info": {
   "codemirror_mode": {
    "name": "ipython",
    "version": 3
   },
   "file_extension": ".py",
   "mimetype": "text/x-python",
   "name": "python",
   "nbconvert_exporter": "python",
   "pygments_lexer": "ipython3",
   "version": "3.10.12"
  }
 },
 "nbformat": 4,
 "nbformat_minor": 5
}
