{
 "cells": [
  {
   "cell_type": "code",
   "execution_count": null,
   "id": "4a199d62-816a-40c2-bef9-474a070e278e",
   "metadata": {},
   "outputs": [],
   "source": [
    "from ipecharts import EChartsRawWidget\n",
    "option = {\n",
    "  'xAxis': {\n",
    "    'type': 'category',\n",
    "    'boundaryGap': False,\n",
    "    'data': ['Mon', 'Tue', 'Wed', 'Thu', 'Fri', 'Sat', 'Sun']\n",
    "  },\n",
    "  'yAxis': {\n",
    "    'type': 'value'\n",
    "  },\n",
    "  'series': [\n",
    "    {\n",
    "      'data': [820, 932, 901, 934, 1290, 1330, 1320],\n",
    "      'type': 'line',\n",
    "      'areaStyle': {}\n",
    "    }\n",
    "  ]\n",
    "};\n",
    "EChartsRawWidget(option=option)"
   ]
  },
  {
   "cell_type": "code",
   "execution_count": null,
   "id": "dbb5852c-0285-4fca-91a2-2b2c1a4f9a52",
   "metadata": {},
   "outputs": [],
   "source": []
  },
  {
   "cell_type": "code",
   "execution_count": null,
   "id": "252922d0-592a-451f-96f2-d37f7e27a671",
   "metadata": {},
   "outputs": [],
   "source": [
    "from ipecharts import EChartsWidget\n",
    "from ipecharts.option import Option, XAxis, YAxis\n",
    "from ipecharts.option.series import Line\n",
    "\n",
    "line = Line(data=[820, 932, 901, 934, 1290, 1330, 1320], areaStyle={})\n",
    "option = Option(\n",
    "    xAxis=XAxis(\n",
    "        type=\"category\",\n",
    "        boundaryGap=False,\n",
    "        data=[\"Mon\", \"Tue\", \"Wed\", \"Thu\", \"Fri\", \"Sat\", \"Sun\"],\n",
    "    ),\n",
    "    yAxis=YAxis(type=\"value\"),\n",
    "    series=[line],\n",
    ")\n",
    "EChartsWidget(option=option)"
   ]
  },
  {
   "cell_type": "code",
   "execution_count": 35,
   "id": "df01c984-16e0-42a8-ae8c-141542925f6d",
   "metadata": {},
   "outputs": [
    {
     "data": {
      "application/vnd.jupyter.widget-view+json": {
       "model_id": "b3355b956d064cb599b675160df3fda0",
       "version_major": 2,
       "version_minor": 0
      },
      "text/plain": [
       "Button(description='Generate  data', style=ButtonStyle())"
      ]
     },
     "metadata": {},
     "output_type": "display_data"
    },
    {
     "data": {
      "application/vnd.jupyter.widget-view+json": {
       "model_id": "3b4654e950e748b399f58ca3b47764ad",
       "version_major": 2,
       "version_minor": 0
      },
      "text/plain": [
       "EChartsWidget(option=Option(angleAxis=None, aria=None, axisPointer=None, brush=None, calendar=None, dataset=No…"
      ]
     },
     "metadata": {},
     "output_type": "display_data"
    }
   ],
   "source": [
    "from ipecharts.option import Option, XAxis, YAxis\n",
    "from ipecharts.option.series import Line\n",
    "from ipywidgets.widgets import Button\n",
    "import numpy\n",
    "line = Line(smooth=True, areaStyle={}, data=numpy.random.rand(10).tolist())\n",
    "option = Option(\n",
    "  xAxis=XAxis(type=\"category\"),\n",
    "  yAxis=YAxis(type=\"value\"),\n",
    "  series=[line],\n",
    ")\n",
    "chart = EChartsWidget(option=option)\n",
    "\n",
    "button = Button(description=\"Generate  data\")\n",
    "def on_button_clicked(b):\n",
    "  data = numpy.random.rand(10).tolist()\n",
    "  line.data = data\n",
    "\n",
    "button.on_click(on_button_clicked)\n",
    "\n",
    "display(button, chart)"
   ]
  },
  {
   "cell_type": "code",
   "execution_count": null,
   "id": "55c7d758-0420-4f8e-9776-5a37ef66ee18",
   "metadata": {},
   "outputs": [],
   "source": []
  }
 ],
 "metadata": {
  "kernelspec": {
   "display_name": "Python 3 (ipykernel)",
   "language": "python",
   "name": "python3"
  },
  "language_info": {
   "codemirror_mode": {
    "name": "ipython",
    "version": 3
   },
   "file_extension": ".py",
   "mimetype": "text/x-python",
   "name": "python",
   "nbconvert_exporter": "python",
   "pygments_lexer": "ipython3",
   "version": "3.10.13"
  }
 },
 "nbformat": 4,
 "nbformat_minor": 5
}
