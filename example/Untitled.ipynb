{
 "cells": [
  {
   "cell_type": "code",
   "execution_count": 5,
   "id": "78fecd78-8958-4779-b692-9a2c855f3ab6",
   "metadata": {
    "scrolled": true
   },
   "outputs": [],
   "source": [
    "from ipecharts.echarts import EChartsWidget, EChartsRawWidget\n",
    "from ipecharts.option.series import Line, Bar, Pie\n",
    "from ipecharts.option import Option \n",
    "from ipecharts.option.xaxis import XAxis\n",
    "from ipecharts.option.yaxis import YAxis\n",
    "from ipecharts.option.title import Title\n",
    "from ipecharts.option.legend import Legend"
   ]
  },
  {
   "cell_type": "code",
   "execution_count": 16,
   "id": "f29fe730-9b39-4739-bb6d-453b62eeec01",
   "metadata": {},
   "outputs": [],
   "source": [
    "option = {\n",
    "  \"color\": [\"#80FFA5\", \"#00DDFF\", \"#37A2FF\", \"#FF0087\", \"#FFBF00\"],\n",
    "  \"title\": {\n",
    "    \"text\": \"Gradient Stacked Area Chart\"\n",
    "  },\n",
    "  \"tooltip\": {\n",
    "    \"trigger\": \"axis\",\n",
    "    \"axisPointer\": {\n",
    "      \"type\": \"cross\",\n",
    "      \"label\": {\n",
    "        \"backgroundColor\": \"#6a7985\"\n",
    "      }\n",
    "    }\n",
    "  },\n",
    "  \"legend\": {\n",
    "    \"data\": [\"Line 1\", \"Line 2\", \"Line 3\", \"Line 4\", \"Line 5\"]\n",
    "  },\n",
    "  \"toolbox\": {\n",
    "    \"feature\": {\n",
    "      \"saveAsImage\": {}\n",
    "    }\n",
    "  },\n",
    "  \"grid\": {\n",
    "    \"left\": \"3%\",\n",
    "    \"right\": \"4%\",\n",
    "    \"bottom\": \"3%\",\n",
    "    \"containLabel\": True\n",
    "  },\n",
    "  \"xAxis\": [\n",
    "    {\n",
    "      \"type\": \"category\",\n",
    "      \"boundaryGap\": False,\n",
    "      \"data\": [\"Mon\", \"Tue\", \"Wed\", \"Thu\", \"Fri\", \"Sat\", \"Sun\"]\n",
    "    }\n",
    "  ],\n",
    "  \"yAxis\": [\n",
    "    {\n",
    "      \"type\": \"value\"\n",
    "    }\n",
    "  ],\n",
    "  \"series\": [\n",
    "    {\n",
    "      \"name\": \"Line 1\",\n",
    "      \"type\": \"line\",\n",
    "      \"stack\": \"Total\",\n",
    "      \"smooth\": True,\n",
    "      \"lineStyle\": {\n",
    "        \"width\": 0\n",
    "      },\n",
    "      \"showSymbol\": False,\n",
    "      \"areaStyle\": {\n",
    "        \"opacity\": 0.8,\n",
    "        \"color\": {\n",
    "          \"type\": \"linear\",\n",
    "          \"x\": 0,\n",
    "          \"y\": 0,\n",
    "          \"x2\": 0,\n",
    "          \"y2\": 1,\n",
    "          \"colorStops\": [\n",
    "            {\n",
    "              \"offset\": 0,\n",
    "              \"color\": \"rgb(128, 255, 165)\"\n",
    "            },\n",
    "            {\n",
    "              \"offset\": 1,\n",
    "              \"color\": \"rgb(1, 191, 236)\"\n",
    "            }\n",
    "          ]\n",
    "        }\n",
    "      },\n",
    "      \"emphasis\": {\n",
    "        \"focus\": \"series\"\n",
    "      },\n",
    "      \"data\": [140, 232, 101, 264, 90, 340, 250]\n",
    "    },\n",
    "    {\n",
    "      \"name\": \"Line 2\",\n",
    "      \"type\": \"line\",\n",
    "      \"stack\": \"Total\",\n",
    "      \"smooth\": True,\n",
    "      \"lineStyle\": {\n",
    "        \"width\": 0\n",
    "      },\n",
    "      \"showSymbol\": False,\n",
    "      \"areaStyle\": {\n",
    "        \"opacity\": 0.8,\n",
    "        \"color\": {\n",
    "          \"type\": \"linear\",\n",
    "          \"x\": 0,\n",
    "          \"y\": 0,\n",
    "          \"x2\": 0,\n",
    "          \"y2\": 1,\n",
    "          \"colorStops\": [\n",
    "            {\n",
    "              \"offset\": 0,\n",
    "              \"color\": \"rgb(0, 221, 255)\"\n",
    "            },\n",
    "            {\n",
    "              \"offset\": 1,\n",
    "              \"color\": \"rgb(77, 119, 255)\"\n",
    "            }\n",
    "          ]\n",
    "        }\n",
    "      },\n",
    "      \"emphasis\": {\n",
    "        \"focus\": \"series\"\n",
    "      },\n",
    "      \"data\": [120, 282, 111, 234, 220, 340, 310]\n",
    "    },\n",
    "    {\n",
    "      \"name\": \"Line 3\",\n",
    "      \"type\": \"line\",\n",
    "      \"stack\": \"Total\",\n",
    "      \"smooth\": True,\n",
    "      \"lineStyle\": {\n",
    "        \"width\": 0\n",
    "      },\n",
    "      \"showSymbol\": False,\n",
    "      \"areaStyle\": {\n",
    "        \"opacity\": 0.8,\n",
    "        \"color\": {\n",
    "          \"type\": \"linear\",\n",
    "          \"x\": 0,\n",
    "          \"y\": 0,\n",
    "          \"x2\": 0,\n",
    "          \"y2\": 1,\n",
    "          \"colorStops\": [\n",
    "            {\n",
    "              \"offset\": 0,\n",
    "              \"color\": \"rgb(55, 162, 255)\"\n",
    "            },\n",
    "            {\n",
    "              \"offset\": 1,\n",
    "              \"color\": \"rgb(116, 21, 219)\"\n",
    "            }\n",
    "          ]\n",
    "        }\n",
    "      },\n",
    "      \"emphasis\": {\n",
    "        \"focus\": \"series\"\n",
    "      },\n",
    "      \"data\": [320, 132, 201, 334, 190, 130, 220]\n",
    "    },\n",
    "    {\n",
    "      \"name\": \"Line 4\",\n",
    "      \"type\": \"line\",\n",
    "      \"stack\": \"Total\",\n",
    "      \"smooth\": True,\n",
    "      \"lineStyle\": {\n",
    "        \"width\": 0\n",
    "      },\n",
    "      \"showSymbol\": False,\n",
    "      \"areaStyle\": {\n",
    "        \"opacity\": 0.8,\n",
    "        \"color\": {\n",
    "          \"type\": \"linear\",\n",
    "          \"x\": 0,\n",
    "          \"y\": 0,\n",
    "          \"x2\": 0,\n",
    "          \"y2\": 1,\n",
    "          \"colorStops\": [\n",
    "            {\n",
    "              \"offset\": 0,\n",
    "              \"color\": \"rgb(255, 0, 135)\"\n",
    "            },\n",
    "            {\n",
    "              \"offset\": 1,\n",
    "              \"color\": \"rgb(135, 0, 157)\"\n",
    "            }\n",
    "          ]\n",
    "        }\n",
    "      },\n",
    "      \"emphasis\": {\n",
    "        \"focus\": \"series\"\n",
    "      },\n",
    "      \"data\": [220, 402, 231, 134, 190, 230, 120]\n",
    "    },\n",
    "    {\n",
    "      \"name\": \"Line 5\",\n",
    "      \"type\": \"line\",\n",
    "      \"stack\": \"Total\",\n",
    "      \"smooth\": True,\n",
    "      \"lineStyle\": {\n",
    "        \"width\": 0\n",
    "      },\n",
    "      \"showSymbol\": False,\n",
    "      \"label\": {\n",
    "        \"show\": True,\n",
    "        \"position\": \"top\"\n",
    "      },\n",
    "      \"areaStyle\": {\n",
    "        \"opacity\": 0.8,\n",
    "        \"color\": {\n",
    "          \"type\": \"linear\",\n",
    "          \"x\": 0,\n",
    "          \"y\": 0,\n",
    "          \"x2\": 0,\n",
    "          \"y2\": 1,\n",
    "          \"colorStops\": [\n",
    "            {\n",
    "              \"offset\": 0,\n",
    "              \"color\": \"rgb(255, 191, 0)\"\n",
    "            },\n",
    "            {\n",
    "              \"offset\": 1,\n",
    "              \"color\": \"rgb(224, 62, 76)\"\n",
    "            }\n",
    "          ]\n",
    "        }\n",
    "      },\n",
    "      \"emphasis\": {\n",
    "        \"focus\": \"series\"\n",
    "      },\n",
    "      \"data\": [220, 302, 181, 234, 210, 290, 150]\n",
    "    }\n",
    "  ]\n",
    "}\n"
   ]
  },
  {
   "cell_type": "code",
   "execution_count": 17,
   "id": "d3c8fe49-ee06-41ad-affa-102dd86905c5",
   "metadata": {},
   "outputs": [
    {
     "data": {
      "application/vnd.jupyter.widget-view+json": {
       "model_id": "315de2b5fd764781a57b94a47005f840",
       "version_major": 2,
       "version_minor": 0
      },
      "text/plain": [
       "EChartsRawWidget(option={'color': ['#80FFA5', '#00DDFF', '#37A2FF', '#FF0087', '#FFBF00'], 'title': {'text': '…"
      ]
     },
     "execution_count": 17,
     "metadata": {},
     "output_type": "execute_result"
    }
   ],
   "source": [
    "EChartsRawWidget(option=option)"
   ]
  },
  {
   "cell_type": "code",
   "execution_count": 11,
   "id": "0c2a70c4-c8a7-4943-9411-a422c96aed2d",
   "metadata": {},
   "outputs": [],
   "source": [
    "line = Bar(data=[120, 200, 150, 80, 70, 110, 130], id='foo')\n",
    "line.name = 'fpop'"
   ]
  },
  {
   "cell_type": "code",
   "execution_count": 12,
   "id": "75db321a-a8dc-412c-8759-8777d8718b6b",
   "metadata": {},
   "outputs": [],
   "source": [
    "line2 = Line( data= [150, 230, 224, 218, 135, 147, 260], id='bar')"
   ]
  },
  {
   "cell_type": "code",
   "execution_count": 13,
   "id": "57e243b5-42f6-4466-bd19-bb740a5f82c4",
   "metadata": {},
   "outputs": [],
   "source": [
    "pie = Pie(data = [\n",
    "        { 'value': 1048, 'name': 'Search Engine' },\n",
    "        { 'value': 735, 'name': 'Direct' },\n",
    "        { 'value': 580, 'name': 'Email' },\n",
    "        { 'value': 484, 'name': 'Union Ads' },\n",
    "        { 'value': 300, 'name': 'Video Ads' }\n",
    "      ],       name= 'Access From',\n",
    "  )"
   ]
  },
  {
   "cell_type": "code",
   "execution_count": 14,
   "id": "b895b90a-ffbe-4b2d-9ef2-45773a2ab714",
   "metadata": {},
   "outputs": [],
   "source": [
    "title = Title(    text= 'Referer of a Website',\n",
    "    subtext= 'Fake Data',\n",
    "    left= 'center')"
   ]
  },
  {
   "cell_type": "code",
   "execution_count": 15,
   "id": "25045508-a1ca-4dd7-ad1f-6d897918d280",
   "metadata": {},
   "outputs": [],
   "source": [
    "legend = Legend(orient='vertical', left='left')"
   ]
  },
  {
   "cell_type": "code",
   "execution_count": 16,
   "id": "629ecfac-c6ac-4621-ae3c-f3863e61596b",
   "metadata": {},
   "outputs": [],
   "source": [
    "option=Option(series=[pie],  title=title, legend=legend )"
   ]
  },
  {
   "cell_type": "code",
   "execution_count": 17,
   "id": "7b4c0106-a763-4c4d-8723-93409d7c340f",
   "metadata": {},
   "outputs": [],
   "source": [
    "w = EChartsWidget(option=option)"
   ]
  },
  {
   "cell_type": "code",
   "execution_count": 18,
   "id": "071f92a6-11dc-4c49-97a5-a7d1f04ab090",
   "metadata": {},
   "outputs": [
    {
     "data": {
      "application/vnd.jupyter.widget-view+json": {
       "model_id": "258c21bec30b489880043f0ce7edde80",
       "version_major": 2,
       "version_minor": 0
      },
      "text/plain": [
       "EChartsWidget(option=Option(angleAxis=None, aria=None, axisPointer=None, brush=None, calendar=None, dataset=No…"
      ]
     },
     "execution_count": 18,
     "metadata": {},
     "output_type": "execute_result"
    }
   ],
   "source": [
    "w"
   ]
  },
  {
   "cell_type": "code",
   "execution_count": 24,
   "id": "e2960b93-7e45-4165-a9af-51778fe399d5",
   "metadata": {},
   "outputs": [],
   "source": [
    "pie.data = [  { 'value': 1048, 'name': 'Search Engine' },\n",
    "        { 'value': 735, 'name': 'Direct' },\n",
    "        { 'value': 580, 'name': 'Email' },\n",
    "        { 'value': 484, 'name': 'Union Ads' },\n",
    "        { 'value': 300, 'name': 'Video Ads' }]"
   ]
  },
  {
   "cell_type": "code",
   "execution_count": 23,
   "id": "5ca60c07-0066-4568-8649-9028f0fe30e6",
   "metadata": {},
   "outputs": [],
   "source": [
    "pie.data = [        { 'value': 300, 'name': 'Video Ads' }]"
   ]
  },
  {
   "cell_type": "code",
   "execution_count": 25,
   "id": "b8870bff-ee3e-4068-8be0-1e982b073387",
   "metadata": {},
   "outputs": [],
   "source": [
    "title.subtext = 'foo bar'"
   ]
  },
  {
   "cell_type": "code",
   "execution_count": null,
   "id": "f810fabc-02d8-4cc8-a45d-eea51a27e5b6",
   "metadata": {},
   "outputs": [],
   "source": [
    "title.__parent_send()"
   ]
  },
  {
   "cell_type": "code",
   "execution_count": null,
   "id": "c3d52a1e-318a-46c3-bb1d-b646ff833514",
   "metadata": {},
   "outputs": [],
   "source": [
    "w.option = option2"
   ]
  },
  {
   "cell_type": "code",
   "execution_count": null,
   "id": "d07635ff-b1bf-4b02-b961-930d0502c2fa",
   "metadata": {},
   "outputs": [],
   "source": [
    "w.notify_change({'name':'foo','type':'change'})"
   ]
  },
  {
   "cell_type": "code",
   "execution_count": null,
   "id": "823edb62-38bc-4a95-938f-0f556964432a",
   "metadata": {},
   "outputs": [],
   "source": [
    "pie"
   ]
  },
  {
   "cell_type": "code",
   "execution_count": 27,
   "id": "f6dcdc29-df09-4842-9d17-be9a5dab0352",
   "metadata": {},
   "outputs": [],
   "source": [
    "c = EChartsWidget(option=option)"
   ]
  },
  {
   "cell_type": "code",
   "execution_count": 28,
   "id": "44f8dd2b-1429-4dc9-832c-29aed8f95ef5",
   "metadata": {},
   "outputs": [
    {
     "data": {
      "application/vnd.jupyter.widget-view+json": {
       "model_id": "",
       "version_major": 2,
       "version_minor": 0
      },
      "text/plain": [
       "EChartsWidget(option=Option(angleAxis=None, aria=None, axisPointer=None, brush=None, calendar=None, dataset=No…"
      ]
     },
     "execution_count": 28,
     "metadata": {},
     "output_type": "execute_result"
    }
   ],
   "source": [
    "c"
   ]
  },
  {
   "cell_type": "code",
   "execution_count": 29,
   "id": "9e4720ad-3b80-4f9c-a38d-2f6f278a6da1",
   "metadata": {},
   "outputs": [],
   "source": [
    "w.close_all()"
   ]
  },
  {
   "cell_type": "code",
   "execution_count": 13,
   "id": "b0bd710f-834d-4a93-bbb5-7e8d33ea6f31",
   "metadata": {},
   "outputs": [
    {
     "data": {
      "text/plain": [
       "EChartsWidget(option=Option(angleAxis=None, aria=None, axisPointer=None, brush=None, calendar=None, dataset=None, geo=None, graphic=None, grid=None, legend=Legend(left='left', orient='vertical'), parallel=None, parallelAxis=None, polar=None, radar=None, radiusAxis=None, series=[Pie(data=[{'value': 300, 'name': 'Video Ads'}], name='Access From')], singleAxis=None, stateAnimation=None, textStyle=None, timeline=None, title=Title(left='center', subtext='Fake Data', text='Referer of a Website'), toolbox=None, tooltip=None, xAxis=None, yAxis=None))"
      ]
     },
     "execution_count": 13,
     "metadata": {},
     "output_type": "execute_result"
    }
   ],
   "source": [
    "w"
   ]
  },
  {
   "cell_type": "code",
   "execution_count": 14,
   "id": "7905f104-977c-4da6-8954-fc66ddb36d23",
   "metadata": {},
   "outputs": [
    {
     "data": {
      "text/plain": [
       "EChartsWidget(option=Option(angleAxis=None, aria=None, axisPointer=None, brush=None, calendar=None, dataset=None, geo=None, graphic=None, grid=None, legend=Legend(left='left', orient='vertical'), parallel=None, parallelAxis=None, polar=None, radar=None, radiusAxis=None, series=[Pie(data=[{'value': 300, 'name': 'Video Ads'}], name='Access From')], singleAxis=None, stateAnimation=None, textStyle=None, timeline=None, title=Title(left='center', subtext='Fake Data', text='Referer of a Website'), toolbox=None, tooltip=None, xAxis=None, yAxis=None))"
      ]
     },
     "execution_count": 14,
     "metadata": {},
     "output_type": "execute_result"
    }
   ],
   "source": [
    "c"
   ]
  },
  {
   "cell_type": "code",
   "execution_count": 30,
   "id": "eb796443-b4fd-4cf2-a5c2-78700ec307e9",
   "metadata": {},
   "outputs": [],
   "source": [
    "c.close_all()"
   ]
  },
  {
   "cell_type": "code",
   "execution_count": 16,
   "id": "55804899-a626-4df2-a813-93f015b71420",
   "metadata": {},
   "outputs": [],
   "source": [
    "title.close_all()"
   ]
  },
  {
   "cell_type": "code",
   "execution_count": 17,
   "id": "31640a5c-84a1-48a8-aa62-96025afb98f5",
   "metadata": {},
   "outputs": [],
   "source": [
    "pie.close_all()"
   ]
  },
  {
   "cell_type": "code",
   "execution_count": 31,
   "id": "ace2db25-c61b-4600-b438-0b49b6a77df5",
   "metadata": {},
   "outputs": [],
   "source": [
    "pie.close()"
   ]
  },
  {
   "cell_type": "code",
   "execution_count": 32,
   "id": "30f0dd2d-88b9-40be-980a-73a4237f4daa",
   "metadata": {},
   "outputs": [
    {
     "data": {
      "text/plain": [
       "Pie(data=[{'value': 1048, 'name': 'Search Engine'}, {'value': 735, 'name': 'Direct'}, {'value': 580, 'name': 'Email'}, {'value': 484, 'name': 'Union Ads'}, {'value': 300, 'name': 'Video Ads'}], name='Access From')"
      ]
     },
     "execution_count": 32,
     "metadata": {},
     "output_type": "execute_result"
    }
   ],
   "source": [
    "pie"
   ]
  },
  {
   "cell_type": "code",
   "execution_count": null,
   "id": "1056d1cc-ace8-426a-b972-b7fa2ad1dec8",
   "metadata": {},
   "outputs": [],
   "source": []
  }
 ],
 "metadata": {
  "kernelspec": {
   "display_name": "Python 3 (ipykernel)",
   "language": "python",
   "name": "python3"
  },
  "language_info": {
   "codemirror_mode": {
    "name": "ipython",
    "version": 3
   },
   "file_extension": ".py",
   "mimetype": "text/x-python",
   "name": "python",
   "nbconvert_exporter": "python",
   "pygments_lexer": "ipython3",
   "version": "3.10.13"
  }
 },
 "nbformat": 4,
 "nbformat_minor": 5
}
