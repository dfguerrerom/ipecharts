{
 "cells": [
  {
   "cell_type": "code",
   "execution_count": 1,
   "id": "78fecd78-8958-4779-b692-9a2c855f3ab6",
   "metadata": {
    "scrolled": true
   },
   "outputs": [],
   "source": [
    "from ipecharts.echarts import EChartsWidget\n",
    "from ipecharts.option.seriesitems.seriesline import SeriesLine\n",
    "from ipecharts.option.seriesitems.seriesbar import SeriesBar\n",
    "from ipecharts.option.option import Option "
   ]
  },
  {
   "cell_type": "code",
   "execution_count": 2,
   "id": "0c2a70c4-c8a7-4943-9411-a422c96aed2d",
   "metadata": {},
   "outputs": [],
   "source": [
    "line = SeriesLine(data=[150, 230, 224, 218, 135, 147, 260], id='foo')\n",
    "line.areaStyle = None\n",
    "line.animation = False\n",
    "line.stack = 'Total'\n",
    "line.name = 'fpop'"
   ]
  },
  {
   "cell_type": "code",
   "execution_count": 3,
   "id": "75db321a-a8dc-412c-8759-8777d8718b6b",
   "metadata": {},
   "outputs": [],
   "source": [
    "line2 = SeriesBar(data=[50, 30, 24, 18, 35, 47, 60], id='bar')\n",
    "line2.areaStyle = None\n",
    "line2.animation = False\n",
    "line2.name = 'var'"
   ]
  },
  {
   "cell_type": "code",
   "execution_count": 7,
   "id": "629ecfac-c6ac-4621-ae3c-f3863e61596b",
   "metadata": {},
   "outputs": [],
   "source": [
    "option=Option(series=[ line2])"
   ]
  },
  {
   "cell_type": "code",
   "execution_count": 8,
   "id": "7b4c0106-a763-4c4d-8723-93409d7c340f",
   "metadata": {},
   "outputs": [],
   "source": [
    "w = EChartsWidget(option=option)"
   ]
  },
  {
   "cell_type": "code",
   "execution_count": 9,
   "id": "071f92a6-11dc-4c49-97a5-a7d1f04ab090",
   "metadata": {},
   "outputs": [
    {
     "data": {
      "application/vnd.jupyter.widget-view+json": {
       "model_id": "262f30c6d57c4b81ac17471ba38f4d23",
       "version_major": 2,
       "version_minor": 0
      },
      "text/plain": [
       "EChartsWidget(option=Option(angleAxis=AngleAxis(boundaryGap=False, max=0.0, min=0.0), aria=Aria(), axisPointer…"
      ]
     },
     "execution_count": 9,
     "metadata": {},
     "output_type": "execute_result"
    }
   ],
   "source": [
    "w"
   ]
  },
  {
   "cell_type": "code",
   "execution_count": null,
   "id": "662e6493-4914-47b7-9bee-bbdd2550d9cc",
   "metadata": {},
   "outputs": [],
   "source": []
  }
 ],
 "metadata": {
  "kernelspec": {
   "display_name": "Python 3 (ipykernel)",
   "language": "python",
   "name": "python3"
  },
  "language_info": {
   "codemirror_mode": {
    "name": "ipython",
    "version": 3
   },
   "file_extension": ".py",
   "mimetype": "text/x-python",
   "name": "python",
   "nbconvert_exporter": "python",
   "pygments_lexer": "ipython3",
   "version": "3.10.13"
  }
 },
 "nbformat": 4,
 "nbformat_minor": 5
}
