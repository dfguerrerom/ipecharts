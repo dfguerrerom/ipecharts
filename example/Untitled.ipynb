{
 "cells": [
  {
   "cell_type": "code",
   "execution_count": 1,
   "id": "78fecd78-8958-4779-b692-9a2c855f3ab6",
   "metadata": {
    "scrolled": true
   },
   "outputs": [],
   "source": [
    "from ipecharts.echarts import EChartsWidget\n",
    "from ipecharts.option.series import Line, Bar, Pie\n",
    "from ipecharts.option import Option \n",
    "from ipecharts.option.xaxis import XAxis\n",
    "from ipecharts.option.yaxis import YAxis\n",
    "from ipecharts.option.title import Title\n",
    "from ipecharts.option.legend import Legend"
   ]
  },
  {
   "cell_type": "code",
   "execution_count": 2,
   "id": "0c2a70c4-c8a7-4943-9411-a422c96aed2d",
   "metadata": {},
   "outputs": [],
   "source": [
    "line = Bar(data=[120, 200, 150, 80, 70, 110, 130], id='foo')\n",
    "line.name = 'fpop'"
   ]
  },
  {
   "cell_type": "code",
   "execution_count": 3,
   "id": "75db321a-a8dc-412c-8759-8777d8718b6b",
   "metadata": {},
   "outputs": [],
   "source": [
    "line2 = Line( data= [150, 230, 224, 218, 135, 147, 260], id='bar')"
   ]
  },
  {
   "cell_type": "code",
   "execution_count": 4,
   "id": "57e243b5-42f6-4466-bd19-bb740a5f82c4",
   "metadata": {},
   "outputs": [],
   "source": [
    "pie = Pie(data = [\n",
    "        { 'value': 1048, 'name': 'Search Engine' },\n",
    "        { 'value': 735, 'name': 'Direct' },\n",
    "        { 'value': 580, 'name': 'Email' },\n",
    "        { 'value': 484, 'name': 'Union Ads' },\n",
    "        { 'value': 300, 'name': 'Video Ads' }\n",
    "      ],       name= 'Access From',\n",
    "  )"
   ]
  },
  {
   "cell_type": "code",
   "execution_count": 5,
   "id": "b895b90a-ffbe-4b2d-9ef2-45773a2ab714",
   "metadata": {},
   "outputs": [],
   "source": [
    "title = Title(    text= 'Referer of a Website',\n",
    "    subtext= 'Fake Data',\n",
    "    left= 'center')"
   ]
  },
  {
   "cell_type": "code",
   "execution_count": 6,
   "id": "25045508-a1ca-4dd7-ad1f-6d897918d280",
   "metadata": {},
   "outputs": [],
   "source": [
    "legend = Legend(orient='vertical', left='left')"
   ]
  },
  {
   "cell_type": "code",
   "execution_count": 7,
   "id": "629ecfac-c6ac-4621-ae3c-f3863e61596b",
   "metadata": {},
   "outputs": [],
   "source": [
    "option=Option(series=[pie],  title=title, legend=legend )"
   ]
  },
  {
   "cell_type": "code",
   "execution_count": 9,
   "id": "7b4c0106-a763-4c4d-8723-93409d7c340f",
   "metadata": {},
   "outputs": [
    {
     "ename": "AttributeError",
     "evalue": "'NoneType' object has no attribute 'comm_id'",
     "output_type": "error",
     "traceback": [
      "\u001b[0;31m---------------------------------------------------------------------------\u001b[0m",
      "\u001b[0;31mAttributeError\u001b[0m                            Traceback (most recent call last)",
      "Cell \u001b[0;32mIn[9], line 1\u001b[0m\n\u001b[0;32m----> 1\u001b[0m w \u001b[38;5;241m=\u001b[39m \u001b[43mEChartsWidget\u001b[49m\u001b[43m(\u001b[49m\u001b[43moption\u001b[49m\u001b[38;5;241;43m=\u001b[39;49m\u001b[43moption\u001b[49m\u001b[43m)\u001b[49m\n",
      "File \u001b[0;32m~/mambaforge/envs/ipe/lib/python3.10/site-packages/ipywidgets/widgets/widget.py:506\u001b[0m, in \u001b[0;36mWidget.__init__\u001b[0;34m(self, **kwargs)\u001b[0m\n\u001b[1;32m    503\u001b[0m \u001b[38;5;28msuper\u001b[39m()\u001b[38;5;241m.\u001b[39m\u001b[38;5;21m__init__\u001b[39m(\u001b[38;5;241m*\u001b[39m\u001b[38;5;241m*\u001b[39mkwargs)\n\u001b[1;32m    505\u001b[0m Widget\u001b[38;5;241m.\u001b[39m_call_widget_constructed(\u001b[38;5;28mself\u001b[39m)\n\u001b[0;32m--> 506\u001b[0m \u001b[38;5;28;43mself\u001b[39;49m\u001b[38;5;241;43m.\u001b[39;49m\u001b[43mopen\u001b[49m\u001b[43m(\u001b[49m\u001b[43m)\u001b[49m\n",
      "File \u001b[0;32m~/mambaforge/envs/ipe/lib/python3.10/site-packages/ipywidgets/widgets/widget.py:525\u001b[0m, in \u001b[0;36mWidget.open\u001b[0;34m(self)\u001b[0m\n\u001b[1;32m    523\u001b[0m \u001b[38;5;250m\u001b[39m\u001b[38;5;124;03m\"\"\"Open a comm to the frontend if one isn't already open.\"\"\"\u001b[39;00m\n\u001b[1;32m    524\u001b[0m \u001b[38;5;28;01mif\u001b[39;00m \u001b[38;5;28mself\u001b[39m\u001b[38;5;241m.\u001b[39mcomm \u001b[38;5;129;01mis\u001b[39;00m \u001b[38;5;28;01mNone\u001b[39;00m:\n\u001b[0;32m--> 525\u001b[0m     state, buffer_paths, buffers \u001b[38;5;241m=\u001b[39m _remove_buffers(\u001b[38;5;28;43mself\u001b[39;49m\u001b[38;5;241;43m.\u001b[39;49m\u001b[43mget_state\u001b[49m\u001b[43m(\u001b[49m\u001b[43m)\u001b[49m)\n\u001b[1;32m    527\u001b[0m     args \u001b[38;5;241m=\u001b[39m \u001b[38;5;28mdict\u001b[39m(target_name\u001b[38;5;241m=\u001b[39m\u001b[38;5;124m'\u001b[39m\u001b[38;5;124mjupyter.widget\u001b[39m\u001b[38;5;124m'\u001b[39m,\n\u001b[1;32m    528\u001b[0m                 data\u001b[38;5;241m=\u001b[39m{\u001b[38;5;124m'\u001b[39m\u001b[38;5;124mstate\u001b[39m\u001b[38;5;124m'\u001b[39m: state, \u001b[38;5;124m'\u001b[39m\u001b[38;5;124mbuffer_paths\u001b[39m\u001b[38;5;124m'\u001b[39m: buffer_paths},\n\u001b[1;32m    529\u001b[0m                 buffers\u001b[38;5;241m=\u001b[39mbuffers,\n\u001b[1;32m    530\u001b[0m                 metadata\u001b[38;5;241m=\u001b[39m{\u001b[38;5;124m'\u001b[39m\u001b[38;5;124mversion\u001b[39m\u001b[38;5;124m'\u001b[39m: __protocol_version__}\n\u001b[1;32m    531\u001b[0m                 )\n\u001b[1;32m    532\u001b[0m     \u001b[38;5;28;01mif\u001b[39;00m \u001b[38;5;28mself\u001b[39m\u001b[38;5;241m.\u001b[39m_model_id \u001b[38;5;129;01mis\u001b[39;00m \u001b[38;5;129;01mnot\u001b[39;00m \u001b[38;5;28;01mNone\u001b[39;00m:\n",
      "File \u001b[0;32m~/mambaforge/envs/ipe/lib/python3.10/site-packages/ipywidgets/widgets/widget.py:615\u001b[0m, in \u001b[0;36mWidget.get_state\u001b[0;34m(self, key, drop_defaults)\u001b[0m\n\u001b[1;32m    613\u001b[0m \u001b[38;5;28;01mfor\u001b[39;00m k \u001b[38;5;129;01min\u001b[39;00m keys:\n\u001b[1;32m    614\u001b[0m     to_json \u001b[38;5;241m=\u001b[39m \u001b[38;5;28mself\u001b[39m\u001b[38;5;241m.\u001b[39mtrait_metadata(k, \u001b[38;5;124m'\u001b[39m\u001b[38;5;124mto_json\u001b[39m\u001b[38;5;124m'\u001b[39m, \u001b[38;5;28mself\u001b[39m\u001b[38;5;241m.\u001b[39m_trait_to_json)\n\u001b[0;32m--> 615\u001b[0m     value \u001b[38;5;241m=\u001b[39m \u001b[43mto_json\u001b[49m\u001b[43m(\u001b[49m\u001b[38;5;28;43mgetattr\u001b[39;49m\u001b[43m(\u001b[49m\u001b[38;5;28;43mself\u001b[39;49m\u001b[43m,\u001b[49m\u001b[43m \u001b[49m\u001b[43mk\u001b[49m\u001b[43m)\u001b[49m\u001b[43m,\u001b[49m\u001b[43m \u001b[49m\u001b[38;5;28;43mself\u001b[39;49m\u001b[43m)\u001b[49m\n\u001b[1;32m    616\u001b[0m     \u001b[38;5;28;01mif\u001b[39;00m \u001b[38;5;129;01mnot\u001b[39;00m drop_defaults \u001b[38;5;129;01mor\u001b[39;00m \u001b[38;5;129;01mnot\u001b[39;00m \u001b[38;5;28mself\u001b[39m\u001b[38;5;241m.\u001b[39m_compare(value, traits[k]\u001b[38;5;241m.\u001b[39mdefault_value):\n\u001b[1;32m    617\u001b[0m         state[k] \u001b[38;5;241m=\u001b[39m value\n",
      "File \u001b[0;32m~/mambaforge/envs/ipe/lib/python3.10/site-packages/ipywidgets/widgets/widget.py:54\u001b[0m, in \u001b[0;36m_widget_to_json\u001b[0;34m(x, obj)\u001b[0m\n\u001b[1;32m     52\u001b[0m     \u001b[38;5;28;01mreturn\u001b[39;00m [_widget_to_json(v, obj) \u001b[38;5;28;01mfor\u001b[39;00m v \u001b[38;5;129;01min\u001b[39;00m x]\n\u001b[1;32m     53\u001b[0m \u001b[38;5;28;01melif\u001b[39;00m \u001b[38;5;28misinstance\u001b[39m(x, Widget):\n\u001b[0;32m---> 54\u001b[0m     \u001b[38;5;28;01mreturn\u001b[39;00m \u001b[38;5;124m\"\u001b[39m\u001b[38;5;124mIPY_MODEL_\u001b[39m\u001b[38;5;124m\"\u001b[39m \u001b[38;5;241m+\u001b[39m \u001b[43mx\u001b[49m\u001b[38;5;241;43m.\u001b[39;49m\u001b[43mmodel_id\u001b[49m\n\u001b[1;32m     55\u001b[0m \u001b[38;5;28;01melse\u001b[39;00m:\n\u001b[1;32m     56\u001b[0m     \u001b[38;5;28;01mreturn\u001b[39;00m x\n",
      "File \u001b[0;32m~/mambaforge/envs/ipe/lib/python3.10/site-packages/ipywidgets/widgets/widget.py:552\u001b[0m, in \u001b[0;36mWidget.model_id\u001b[0;34m(self)\u001b[0m\n\u001b[1;32m    547\u001b[0m \u001b[38;5;129m@property\u001b[39m\n\u001b[1;32m    548\u001b[0m \u001b[38;5;28;01mdef\u001b[39;00m \u001b[38;5;21mmodel_id\u001b[39m(\u001b[38;5;28mself\u001b[39m):\n\u001b[1;32m    549\u001b[0m \u001b[38;5;250m    \u001b[39m\u001b[38;5;124;03m\"\"\"Gets the model id of this widget.\u001b[39;00m\n\u001b[1;32m    550\u001b[0m \n\u001b[1;32m    551\u001b[0m \u001b[38;5;124;03m    If a Comm doesn't exist yet, a Comm will be created automagically.\"\"\"\u001b[39;00m\n\u001b[0;32m--> 552\u001b[0m     \u001b[38;5;28;01mreturn\u001b[39;00m \u001b[38;5;28;43mself\u001b[39;49m\u001b[38;5;241;43m.\u001b[39;49m\u001b[43mcomm\u001b[49m\u001b[38;5;241;43m.\u001b[39;49m\u001b[43mcomm_id\u001b[49m\n",
      "\u001b[0;31mAttributeError\u001b[0m: 'NoneType' object has no attribute 'comm_id'"
     ]
    }
   ],
   "source": [
    "w = EChartsWidget(option=option)"
   ]
  },
  {
   "cell_type": "code",
   "execution_count": null,
   "id": "071f92a6-11dc-4c49-97a5-a7d1f04ab090",
   "metadata": {},
   "outputs": [],
   "source": [
    "w"
   ]
  },
  {
   "cell_type": "code",
   "execution_count": null,
   "id": "f810fabc-02d8-4cc8-a45d-eea51a27e5b6",
   "metadata": {},
   "outputs": [],
   "source": [
    "title.__parent_send()"
   ]
  },
  {
   "cell_type": "code",
   "execution_count": null,
   "id": "c3d52a1e-318a-46c3-bb1d-b646ff833514",
   "metadata": {},
   "outputs": [],
   "source": [
    "w.option = option2"
   ]
  },
  {
   "cell_type": "code",
   "execution_count": null,
   "id": "d07635ff-b1bf-4b02-b961-930d0502c2fa",
   "metadata": {},
   "outputs": [],
   "source": [
    "w.notify_change({'name':'foo','type':'change'})"
   ]
  },
  {
   "cell_type": "code",
   "execution_count": null,
   "id": "823edb62-38bc-4a95-938f-0f556964432a",
   "metadata": {},
   "outputs": [],
   "source": [
    "pie"
   ]
  },
  {
   "cell_type": "code",
   "execution_count": 27,
   "id": "f6dcdc29-df09-4842-9d17-be9a5dab0352",
   "metadata": {},
   "outputs": [],
   "source": [
    "c = EChartsWidget(option=option)"
   ]
  },
  {
   "cell_type": "code",
   "execution_count": 28,
   "id": "44f8dd2b-1429-4dc9-832c-29aed8f95ef5",
   "metadata": {},
   "outputs": [
    {
     "data": {
      "application/vnd.jupyter.widget-view+json": {
       "model_id": "",
       "version_major": 2,
       "version_minor": 0
      },
      "text/plain": [
       "EChartsWidget(option=Option(angleAxis=None, aria=None, axisPointer=None, brush=None, calendar=None, dataset=No…"
      ]
     },
     "execution_count": 28,
     "metadata": {},
     "output_type": "execute_result"
    }
   ],
   "source": [
    "c"
   ]
  },
  {
   "cell_type": "code",
   "execution_count": 11,
   "id": "5ca60c07-0066-4568-8649-9028f0fe30e6",
   "metadata": {},
   "outputs": [],
   "source": [
    "pie.data = [        { 'value': 300, 'name': 'Video Ads' }]"
   ]
  },
  {
   "cell_type": "code",
   "execution_count": null,
   "id": "e2960b93-7e45-4165-a9af-51778fe399d5",
   "metadata": {},
   "outputs": [],
   "source": [
    "pie.data = [  { 'value': 1048, 'name': 'Search Engine' },\n",
    "        { 'value': 735, 'name': 'Direct' },\n",
    "        { 'value': 580, 'name': 'Email' },\n",
    "        { 'value': 484, 'name': 'Union Ads' },\n",
    "        { 'value': 300, 'name': 'Video Ads' }]"
   ]
  },
  {
   "cell_type": "code",
   "execution_count": null,
   "id": "b8870bff-ee3e-4068-8be0-1e982b073387",
   "metadata": {},
   "outputs": [],
   "source": [
    "title.subtext = 'foo bar'"
   ]
  },
  {
   "cell_type": "code",
   "execution_count": 29,
   "id": "9e4720ad-3b80-4f9c-a38d-2f6f278a6da1",
   "metadata": {},
   "outputs": [],
   "source": [
    "w.close_all()"
   ]
  },
  {
   "cell_type": "code",
   "execution_count": 13,
   "id": "b0bd710f-834d-4a93-bbb5-7e8d33ea6f31",
   "metadata": {},
   "outputs": [
    {
     "data": {
      "text/plain": [
       "EChartsWidget(option=Option(angleAxis=None, aria=None, axisPointer=None, brush=None, calendar=None, dataset=None, geo=None, graphic=None, grid=None, legend=Legend(left='left', orient='vertical'), parallel=None, parallelAxis=None, polar=None, radar=None, radiusAxis=None, series=[Pie(data=[{'value': 300, 'name': 'Video Ads'}], name='Access From')], singleAxis=None, stateAnimation=None, textStyle=None, timeline=None, title=Title(left='center', subtext='Fake Data', text='Referer of a Website'), toolbox=None, tooltip=None, xAxis=None, yAxis=None))"
      ]
     },
     "execution_count": 13,
     "metadata": {},
     "output_type": "execute_result"
    }
   ],
   "source": [
    "w"
   ]
  },
  {
   "cell_type": "code",
   "execution_count": 14,
   "id": "7905f104-977c-4da6-8954-fc66ddb36d23",
   "metadata": {},
   "outputs": [
    {
     "data": {
      "text/plain": [
       "EChartsWidget(option=Option(angleAxis=None, aria=None, axisPointer=None, brush=None, calendar=None, dataset=None, geo=None, graphic=None, grid=None, legend=Legend(left='left', orient='vertical'), parallel=None, parallelAxis=None, polar=None, radar=None, radiusAxis=None, series=[Pie(data=[{'value': 300, 'name': 'Video Ads'}], name='Access From')], singleAxis=None, stateAnimation=None, textStyle=None, timeline=None, title=Title(left='center', subtext='Fake Data', text='Referer of a Website'), toolbox=None, tooltip=None, xAxis=None, yAxis=None))"
      ]
     },
     "execution_count": 14,
     "metadata": {},
     "output_type": "execute_result"
    }
   ],
   "source": [
    "c"
   ]
  },
  {
   "cell_type": "code",
   "execution_count": 30,
   "id": "eb796443-b4fd-4cf2-a5c2-78700ec307e9",
   "metadata": {},
   "outputs": [],
   "source": [
    "c.close_all()"
   ]
  },
  {
   "cell_type": "code",
   "execution_count": 16,
   "id": "55804899-a626-4df2-a813-93f015b71420",
   "metadata": {},
   "outputs": [],
   "source": [
    "title.close_all()"
   ]
  },
  {
   "cell_type": "code",
   "execution_count": 17,
   "id": "31640a5c-84a1-48a8-aa62-96025afb98f5",
   "metadata": {},
   "outputs": [],
   "source": [
    "pie.close_all()"
   ]
  },
  {
   "cell_type": "code",
   "execution_count": 31,
   "id": "ace2db25-c61b-4600-b438-0b49b6a77df5",
   "metadata": {},
   "outputs": [],
   "source": [
    "pie.close()"
   ]
  },
  {
   "cell_type": "code",
   "execution_count": 32,
   "id": "30f0dd2d-88b9-40be-980a-73a4237f4daa",
   "metadata": {},
   "outputs": [
    {
     "data": {
      "text/plain": [
       "Pie(data=[{'value': 1048, 'name': 'Search Engine'}, {'value': 735, 'name': 'Direct'}, {'value': 580, 'name': 'Email'}, {'value': 484, 'name': 'Union Ads'}, {'value': 300, 'name': 'Video Ads'}], name='Access From')"
      ]
     },
     "execution_count": 32,
     "metadata": {},
     "output_type": "execute_result"
    }
   ],
   "source": [
    "pie"
   ]
  },
  {
   "cell_type": "code",
   "execution_count": null,
   "id": "1056d1cc-ace8-426a-b972-b7fa2ad1dec8",
   "metadata": {},
   "outputs": [],
   "source": []
  }
 ],
 "metadata": {
  "kernelspec": {
   "display_name": "Python 3 (ipykernel)",
   "language": "python",
   "name": "python3"
  },
  "language_info": {
   "codemirror_mode": {
    "name": "ipython",
    "version": 3
   },
   "file_extension": ".py",
   "mimetype": "text/x-python",
   "name": "python",
   "nbconvert_exporter": "python",
   "pygments_lexer": "ipython3",
   "version": "3.10.13"
  }
 },
 "nbformat": 4,
 "nbformat_minor": 5
}
