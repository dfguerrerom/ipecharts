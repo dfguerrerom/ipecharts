{
 "cells": [
  {
   "cell_type": "code",
   "execution_count": 1,
   "id": "78fecd78-8958-4779-b692-9a2c855f3ab6",
   "metadata": {
    "scrolled": true
   },
   "outputs": [],
   "source": [
    "from ipecharts.echarts import EChartsWidget\n",
    "from ipecharts.option.series import Line, Bar\n",
    "from ipecharts.option import Option \n",
    "from ipecharts.option.xaxis import XAxis\n",
    "from ipecharts.option.yaxis import YAxis"
   ]
  },
  {
   "cell_type": "code",
   "execution_count": 2,
   "id": "0c2a70c4-c8a7-4943-9411-a422c96aed2d",
   "metadata": {},
   "outputs": [],
   "source": [
    "line = Bar(data=[120, 200, 150, 80, 70, 110, 130], id='foo')\n",
    "line.name = 'fpop'"
   ]
  },
  {
   "cell_type": "code",
   "execution_count": 3,
   "id": "75db321a-a8dc-412c-8759-8777d8718b6b",
   "metadata": {},
   "outputs": [],
   "source": [
    "line2 = Line( data= [150, 230, 224, 218, 135, 147, 260], id='bar')"
   ]
  },
  {
   "cell_type": "code",
   "execution_count": 4,
   "id": "629ecfac-c6ac-4621-ae3c-f3863e61596b",
   "metadata": {},
   "outputs": [],
   "source": [
    "option=Option(series=[ line, line2],   xAxis= XAxis(**{\n",
    "    'type': 'category'\n",
    "  }),\n",
    "  yAxis= YAxis(** {\n",
    "    'type': 'value'\n",
    "  } ))"
   ]
  },
  {
   "cell_type": "code",
   "execution_count": 5,
   "id": "7b4c0106-a763-4c4d-8723-93409d7c340f",
   "metadata": {},
   "outputs": [],
   "source": [
    "w = EChartsWidget(option=option)"
   ]
  },
  {
   "cell_type": "code",
   "execution_count": 6,
   "id": "071f92a6-11dc-4c49-97a5-a7d1f04ab090",
   "metadata": {},
   "outputs": [
    {
     "data": {
      "application/vnd.jupyter.widget-view+json": {
       "model_id": "77515f87f36d47fb882b519661dc0b13",
       "version_major": 2,
       "version_minor": 0
      },
      "text/plain": [
       "EChartsWidget(option=Option(angleAxis=None, aria=None, axisPointer=None, brush=None, calendar=None, dataset=No…"
      ]
     },
     "execution_count": 6,
     "metadata": {},
     "output_type": "execute_result"
    }
   ],
   "source": [
    "w"
   ]
  },
  {
   "cell_type": "code",
   "execution_count": 12,
   "id": "662e6493-4914-47b7-9bee-bbdd2550d9cc",
   "metadata": {},
   "outputs": [
    {
     "data": {
      "text/plain": [
       "Option(angleAxis=None, aria=None, axisPointer=None, brush=None, calendar=None, dataset=None, geo=None, graphic=None, grid=None, legend=None, parallel=None, parallelAxis=None, polar=None, radar=None, radiusAxis=None, series=[Bar(barMaxWidth=0.0, barMinWidth=0.0, barWidth=0.0, data=[120, 200, 150, 80, 70, 110, 130], id='foo', labelLayout=None, name='fpop')], singleAxis=None, stateAnimation=None, textStyle=None, timeline=None, title=None, toolbox=None, tooltip=None, xAxis=XAxis(boundaryGap=False, data=['Mon', 'Tue', 'Wed', 'Thu', 'Fri', 'Sat', 'Sun'], max=0.0, min=0.0, type='category'), yAxis=YAxis(boundaryGap=False, max=0.0, min=0.0, type='value'))"
      ]
     },
     "execution_count": 12,
     "metadata": {},
     "output_type": "execute_result"
    }
   ],
   "source": [
    "option"
   ]
  },
  {
   "cell_type": "code",
   "execution_count": 8,
   "id": "760f08c8-0347-4008-9f63-9dfe0898aadb",
   "metadata": {},
   "outputs": [
    {
     "data": {
      "text/plain": [
       "Line(animation=False, data=[150, 230, 224, 218, 135, 147, 260], id='foo', labelLayout=None, name='fpop', stack='Total', symbolRotate=0.0)"
      ]
     },
     "execution_count": 8,
     "metadata": {},
     "output_type": "execute_result"
    }
   ],
   "source": [
    "line"
   ]
  },
  {
   "cell_type": "code",
   "execution_count": 9,
   "id": "283ba25e-1351-4902-bd8f-ffa496e196e5",
   "metadata": {},
   "outputs": [
    {
     "data": {
      "text/plain": [
       "Bar(animation=False, barMaxWidth=0.0, barMinWidth=0.0, barWidth=0.0, data=[50, 30, 24, 18, 35, 47, 60], id='bar', labelLayout=None, name='var')"
      ]
     },
     "execution_count": 9,
     "metadata": {},
     "output_type": "execute_result"
    }
   ],
   "source": [
    "line2"
   ]
  },
  {
   "cell_type": "code",
   "execution_count": null,
   "id": "f810fabc-02d8-4cc8-a45d-eea51a27e5b6",
   "metadata": {},
   "outputs": [],
   "source": []
  }
 ],
 "metadata": {
  "kernelspec": {
   "display_name": "Python 3 (ipykernel)",
   "language": "python",
   "name": "python3"
  },
  "language_info": {
   "codemirror_mode": {
    "name": "ipython",
    "version": 3
   },
   "file_extension": ".py",
   "mimetype": "text/x-python",
   "name": "python",
   "nbconvert_exporter": "python",
   "pygments_lexer": "ipython3",
   "version": "3.10.13"
  }
 },
 "nbformat": 4,
 "nbformat_minor": 5
}
