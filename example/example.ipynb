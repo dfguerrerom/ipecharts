{
 "cells": [
  {
   "cell_type": "code",
   "execution_count": 21,
   "id": "02eb29a6-3347-43a4-ab85-4fd923aab212",
   "metadata": {},
   "outputs": [],
   "source": [
    "from ipecharts.echarts import EChartsWidget, EChartsRawWidget\n",
    "import json"
   ]
  },
  {
   "cell_type": "markdown",
   "id": "860acbe5-8fd1-4e2b-b029-a67fe61984f9",
   "metadata": {},
   "source": [
    "# Raw widget"
   ]
  },
  {
   "cell_type": "code",
   "execution_count": 22,
   "id": "d3dd58c7-3a8f-4886-a8fc-32546bb36a1b",
   "metadata": {},
   "outputs": [],
   "source": [
    "with open('option.json', 'r') as f:\n",
    "    option = json.load(f)"
   ]
  },
  {
   "cell_type": "code",
   "execution_count": 23,
   "id": "392c0ba7-28ff-4fe7-a4a5-8a95fef937c9",
   "metadata": {},
   "outputs": [
    {
     "data": {
      "application/vnd.jupyter.widget-view+json": {
       "model_id": "64a599834165429eae15e534446c0b35",
       "version_major": 2,
       "version_minor": 0
      },
      "text/plain": [
       "EChartsRawWidget(option={'color': ['#80FFA5', '#00DDFF', '#37A2FF', '#FF0087', '#FFBF00'], 'title': {'text': '…"
      ]
     },
     "execution_count": 23,
     "metadata": {},
     "output_type": "execute_result"
    }
   ],
   "source": [
    "EChartsRawWidget(option=option)"
   ]
  },
  {
   "cell_type": "markdown",
   "id": "082d30fa-47d8-48a8-a4fd-1c2f24e9adce",
   "metadata": {},
   "source": [
    "# [Circular graph example](https://echarts.apache.org/examples/en/editor.html?c=graph-circular-layout)"
   ]
  },
  {
   "cell_type": "code",
   "execution_count": 24,
   "id": "e5e37aee-6c6a-4b63-b718-d535d900a9f3",
   "metadata": {},
   "outputs": [],
   "source": [
    "from ipecharts.option import Option \n",
    "from ipecharts.option.title import Title\n",
    "from ipecharts.option.tooltip import Tooltip\n",
    "from ipecharts.option.legend import Legend\n",
    "from ipecharts.option.series import Graph"
   ]
  },
  {
   "cell_type": "code",
   "execution_count": 25,
   "id": "31280a3f-deb3-4e11-a2af-c745bf516a4a",
   "metadata": {},
   "outputs": [],
   "source": [
    "with open('les-miserables.json', 'r') as f:\n",
    "    graph = json.load(f)\n",
    "for node in graph['nodes']:\n",
    "    if node['symbolSize'] > 30:\n",
    "        node['label'] = {'show': True}"
   ]
  },
  {
   "cell_type": "code",
   "execution_count": 26,
   "id": "353a1e64-adaa-461e-a35b-813bf7e51213",
   "metadata": {},
   "outputs": [],
   "source": [
    "title = Title(\n",
    "    text=\"Les Miserables\", subtext=\"Circular layout\", top=\"bottom\", left=\"right\"\n",
    ")"
   ]
  },
  {
   "cell_type": "code",
   "execution_count": 27,
   "id": "3cc26197-5bc6-4587-ad88-fe584ee17538",
   "metadata": {},
   "outputs": [],
   "source": [
    "g = Graph(\n",
    "    name=\"Les Miserables\",\n",
    "    layout=\"circular\",\n",
    "    circular={\"rotateLabel\": True},\n",
    "    roam=True,\n",
    "    label={\"position\": \"right\", \"formatter\": \"{b}\"},\n",
    "    lineStyle={\"color\": \"source\", \"curveness\": 0.3},\n",
    ")"
   ]
  },
  {
   "cell_type": "code",
   "execution_count": 28,
   "id": "1b4238ad-c750-4518-849a-67ba6100fc1f",
   "metadata": {},
   "outputs": [],
   "source": [
    "g.data = graph['nodes']\n",
    "g.links = graph['links']\n",
    "g.categories = graph['categories']"
   ]
  },
  {
   "cell_type": "code",
   "execution_count": 29,
   "id": "f12678ad-bc96-40bd-9c11-387511944110",
   "metadata": {},
   "outputs": [],
   "source": [
    "option = Option(\n",
    "    series=[g],\n",
    "    title=title,\n",
    "    tooltip=Tooltip(),\n",
    "    legend=Legend(),\n",
    "    animationDurationUpdate=1500,\n",
    "    animationEasingUpdate=\"quinticInOut\",\n",
    ")"
   ]
  },
  {
   "cell_type": "code",
   "execution_count": 30,
   "id": "28286d2b-c7a7-4856-aa67-d03240dfc2bf",
   "metadata": {},
   "outputs": [
    {
     "data": {
      "application/vnd.jupyter.widget-view+json": {
       "model_id": "d33d09d5a4dc47b8b00592a6f88ee6ff",
       "version_major": 2,
       "version_minor": 0
      },
      "text/plain": [
       "EChartsWidget(option=Option(angleAxis=None, animationDurationUpdate=1500.0, animationEasingUpdate='quinticInOu…"
      ]
     },
     "execution_count": 30,
     "metadata": {},
     "output_type": "execute_result"
    }
   ],
   "source": [
    "EChartsWidget(option=option)"
   ]
  },
  {
   "cell_type": "code",
   "execution_count": null,
   "id": "2c9e925c-8395-4b1f-a12d-8a8cf2f22a32",
   "metadata": {},
   "outputs": [],
   "source": []
  },
  {
   "cell_type": "code",
   "execution_count": null,
   "id": "5b023a5a-a005-4051-a635-3540bfbf328a",
   "metadata": {},
   "outputs": [],
   "source": []
  }
 ],
 "metadata": {
  "kernelspec": {
   "display_name": "Python 3 (ipykernel)",
   "language": "python",
   "name": "python3"
  },
  "language_info": {
   "codemirror_mode": {
    "name": "ipython",
    "version": 3
   },
   "file_extension": ".py",
   "mimetype": "text/x-python",
   "name": "python",
   "nbconvert_exporter": "python",
   "pygments_lexer": "ipython3",
   "version": "3.10.13"
  }
 },
 "nbformat": 4,
 "nbformat_minor": 5
}
